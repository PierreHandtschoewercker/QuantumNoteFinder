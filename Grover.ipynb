{
 "cells": [
  {
   "cell_type": "code",
   "execution_count": 11,
   "metadata": {},
   "outputs": [],
   "source": [
    "from qiskit import *\n",
    "from qiskit.aqua.algorithms import Grover\n",
    "from qiskit.aqua.components.oracles import LogicalExpressionOracle, TruthTableOracle\n",
    "from qiskit.tools.visualization import plot_histogram\n",
    "from qiskit.aqua import QuantumInstance\n"
   ]
  },
  {
   "cell_type": "code",
   "execution_count": 25,
   "metadata": {},
   "outputs": [
    {
     "name": "stdout",
     "output_type": "stream",
     "text": [
      "00000100\n"
     ]
    }
   ],
   "source": [
    "freq = 87.31\n",
    "notes = {'A': 110, 'B': 123.5, 'C': 65.41, 'D': 73.42, 'E': 82.41, 'F': 87.31, 'G': 98, 'H':0}\n",
    "#        000       001          010         011         100         101         110       \n",
    "\n",
    "\n",
    "def buildTruthTable(notes, freq):\n",
    "    truthTable = ''\n",
    "    for n in notes:\n",
    "        if notes[n] == freq:\n",
    "            truthTable+='1'\n",
    "        else:\n",
    "            truthTable+='0'\n",
    "            \n",
    "    return truthTable\n",
    "\n",
    "truthtable = buildTruthTable(notes, freq)\n",
    "print(truthtable)"
   ]
  },
  {
   "cell_type": "code",
   "execution_count": 26,
   "metadata": {},
   "outputs": [
    {
     "data": {
      "text/html": [
       "<pre style=\"word-wrap: normal;white-space: pre;background: #fff0;line-height: 1.1;font-family: &quot;Courier New&quot;,Courier,monospace\">                     \n",
       "v_0: ───────■────────\n",
       "     ┌───┐  │   ┌───┐\n",
       "v_1: ┤ X ├──■───┤ X ├\n",
       "     └───┘  │   └───┘\n",
       "v_2: ───────■────────\n",
       "          ┌─┴──┐     \n",
       "o_0: ─────┤0   ├─────\n",
       "          │  X │     \n",
       "a_0: ─────┤1   ├─────\n",
       "          └────┘     </pre>"
      ],
      "text/plain": [
       "                     \n",
       "v_0: ───────■────────\n",
       "     ┌───┐  │   ┌───┐\n",
       "v_1: ┤ X ├──■───┤ X ├\n",
       "     └───┘  │   └───┘\n",
       "v_2: ───────■────────\n",
       "          ┌─┴──┐     \n",
       "o_0: ─────┤0   ├─────\n",
       "          │  X │     \n",
       "a_0: ─────┤1   ├─────\n",
       "          └────┘     "
      ]
     },
     "execution_count": 26,
     "metadata": {},
     "output_type": "execute_result"
    }
   ],
   "source": [
    "oracle = TruthTableOracle(truthtable)\n",
    "circ = oracle.construct_circuit()\n",
    "circ.draw()"
   ]
  },
  {
   "cell_type": "code",
   "execution_count": 27,
   "metadata": {},
   "outputs": [
    {
     "data": {
      "image/png": "[encoded data removed]",
      "text/plain": [
       "<Figure size 504x360 with 1 Axes>"
      ]
     },
     "execution_count": 27,
     "metadata": {},
     "output_type": "execute_result"
    }
   ],
   "source": [
    "grover = Grover(oracle)\n",
    "result = grover.run(QuantumInstance(BasicAer.get_backend('qasm_simulator'), shots=1024))\n",
    "plot_histogram(result['measurement'])"
   ]
  },
  {
   "cell_type": "code",
   "execution_count": null,
   "metadata": {},
   "outputs": [],
   "source": []
  }
 ],
 "metadata": {
  "kernelspec": {
   "display_name": "Python 3",
   "language": "python",
   "name": "python3"
  },
  "language_info": {
   "codemirror_mode": {
    "name": "ipython",
    "version": 3
   },
   "file_extension": ".py",
   "mimetype": "text/x-python",
   "name": "python",
   "nbconvert_exporter": "python",
   "pygments_lexer": "ipython3",
   "version": "3.8.5"
  }
 },
 "nbformat": 4,
 "nbformat_minor": 4
}
