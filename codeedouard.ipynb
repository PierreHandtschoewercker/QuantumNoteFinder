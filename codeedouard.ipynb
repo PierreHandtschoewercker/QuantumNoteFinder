{
 "cells": [
  {
   "cell_type": "code",
   "execution_count": 99,
   "metadata": {},
   "outputs": [],
   "source": [
    "from qiskit import *\n",
    "import matplotlib\n",
    "from matplotlib import pyplot as plt"
   ]
  },
  {
   "cell_type": "code",
   "execution_count": 120,
   "metadata": {},
   "outputs": [],
   "source": [
    "#freq = 440\n",
    "#notes = {'A': 110, 'B': 123.5, 'C': 65.41, 'D': 73.42, 'E': 82.41, 'F': 87.31, 'G': 98, 'H': 0,}\n",
    "#        000       001          010         011         100         101         110       111\n",
    "\n",
    "\n",
    "\n",
    "n = 3 # initialisation de 3 Qubits\n",
    "oracle_circuit = QuantumCircuit(n, name='Oracle') #n est nomé ORACLE\n",
    "\n",
    "c = 0  # qbit de control\n",
    "t = 1   # qbit de target\n",
    "\n",
    "#def findNoteFororacle(qc, qubits):\n",
    "#   \"\"\"Apply a H-gate to 'qubits' in qc\"\"\"\n",
    " #   for q in qubits:\n",
    "  #      qc.h(q)\n",
    "   # return qc\n",
    "\n",
    "\n",
    "oracle_circuit.cz(c, t)\n",
    "#c = c +1\n",
    "#oracle_circuit.cz(c, t)\n",
    "\n",
    "oracle_ex3 = oracle_circuit.to_gate()\n",
    "#oracle_ex3.name = \"U$_\\omega$\"\n",
    "\n"
   ]
  },
  {
   "cell_type": "code",
   "execution_count": 121,
   "metadata": {
    "scrolled": true
   },
   "outputs": [
    {
     "data": {
      "text/html": [
       "<pre style=\"word-wrap: normal;white-space: pre;background: #fff0;line-height: 1.1;font-family: &quot;Courier New&quot;,Courier,monospace\">          ┌───┐\n",
       "q_0: ──■──┤ H ├\n",
       "       │  └───┘\n",
       "q_1: ──■───────\n",
       "     ┌───┐     \n",
       "q_2: ┤ H ├─────\n",
       "     └───┘     </pre>"
      ],
      "text/plain": [
       "          ┌───┐\n",
       "q_0: ──■──┤ H ├\n",
       "       │  └───┘\n",
       "q_1: ──■───────\n",
       "     ┌───┐     \n",
       "q_2: ┤ H ├─────\n",
       "     └───┘     "
      ]
     },
     "execution_count": 121,
     "metadata": {},
     "output_type": "execute_result"
    }
   ],
   "source": [
    "#backend = Aer.get_backend('unitary_simulator')\n",
    "#matplotlib.use('Qt5Agg')\n",
    "\n",
    "\n",
    "\n",
    "\n",
    "oracle_ex3 = findNoteFororacle(oracle_circuit, [0,2])\n",
    "oracle_ex3.draw()\n",
    "\n",
    "\n",
    "#oracle_circuit.cz(c, t)  # Oracle \n",
    "#oracle_circuit.cz(2, 1)  # Oracle\n",
    "#print(c,t) "
   ]
  },
  {
   "cell_type": "code",
   "execution_count": null,
   "metadata": {},
   "outputs": [],
   "source": []
  },
  {
   "cell_type": "code",
   "execution_count": null,
   "metadata": {},
   "outputs": [],
   "source": []
  },
  {
   "cell_type": "code",
   "execution_count": 102,
   "metadata": {
    "scrolled": true
   },
   "outputs": [
    {
     "name": "stdout",
     "output_type": "stream",
     "text": [
      "[[ 0.5+0.0000000e+00j  0.5-6.1232340e-17j  0.5-6.1232340e-17j\n",
      "   0.5-1.2246468e-16j  0. +0.0000000e+00j  0. +0.0000000e+00j\n",
      "   0. +0.0000000e+00j  0. +0.0000000e+00j]\n",
      " [ 0.5+0.0000000e+00j -0.5+6.1232340e-17j  0.5-6.1232340e-17j\n",
      "  -0.5+1.2246468e-16j  0. +0.0000000e+00j  0. +0.0000000e+00j\n",
      "   0. +0.0000000e+00j  0. +0.0000000e+00j]\n",
      " [ 0.5+0.0000000e+00j  0.5-6.1232340e-17j -0.5+6.1232340e-17j\n",
      "  -0.5+1.2246468e-16j  0. +0.0000000e+00j  0. +0.0000000e+00j\n",
      "   0. +0.0000000e+00j  0. +0.0000000e+00j]\n",
      " [ 0.5+0.0000000e+00j -0.5+6.1232340e-17j -0.5+6.1232340e-17j\n",
      "   0.5-1.2246468e-16j  0. +0.0000000e+00j  0. +0.0000000e+00j\n",
      "   0. +0.0000000e+00j  0. +0.0000000e+00j]\n",
      " [ 0. +0.0000000e+00j  0. +0.0000000e+00j  0. +0.0000000e+00j\n",
      "   0. +0.0000000e+00j  0.5+0.0000000e+00j -0.5+6.1232340e-17j\n",
      "  -0.5+6.1232340e-17j  0.5-1.2246468e-16j]\n",
      " [ 0. +0.0000000e+00j  0. +0.0000000e+00j  0. +0.0000000e+00j\n",
      "   0. +0.0000000e+00j  0.5+0.0000000e+00j  0.5-6.1232340e-17j\n",
      "  -0.5+6.1232340e-17j -0.5+1.2246468e-16j]\n",
      " [ 0. +0.0000000e+00j  0. +0.0000000e+00j  0. +0.0000000e+00j\n",
      "   0. +0.0000000e+00j  0.5+0.0000000e+00j -0.5+6.1232340e-17j\n",
      "   0.5-6.1232340e-17j -0.5+1.2246468e-16j]\n",
      " [ 0. +0.0000000e+00j  0. +0.0000000e+00j  0. +0.0000000e+00j\n",
      "   0. +0.0000000e+00j  0.5+0.0000000e+00j  0.5-6.1232340e-17j\n",
      "   0.5-6.1232340e-17j  0.5-1.2246468e-16j]]\n",
      "        ┌───┐     \n",
      "q_0: ─■─┤ H ├─────\n",
      "      │ └───┘┌───┐\n",
      "q_1: ─┼───■──┤ H ├\n",
      "      │   │  └───┘\n",
      "q_2: ─■───■───────\n",
      "                  \n"
     ]
    }
   ],
   "source": [
    "job = execute(oracle_circuit, backend)  #executer le resultat  \n",
    "result = job.result() # recupere la matrice \n",
    "print(result.get_unitary(oracle_circuit)) # afficher la matrice\n",
    "print(oracle_circuit.draw())\n",
    "oracle_ex4 = oracle_circuit.to_gate() # converti le circuit en porte  \n",
    "# print(oracle_ex4.to_matrix())\n",
    "\n",
    "\n",
    "\n",
    "# objectif passer tous les 1 à -1 "
   ]
  },
  {
   "cell_type": "code",
   "execution_count": null,
   "metadata": {},
   "outputs": [],
   "source": []
  },
  {
   "cell_type": "code",
   "execution_count": null,
   "metadata": {},
   "outputs": [],
   "source": []
  }
 ],
 "metadata": {
  "kernelspec": {
   "display_name": "Python 3",
   "language": "python",
   "name": "python3"
  },
  "language_info": {
   "codemirror_mode": {
    "name": "ipython",
    "version": 3
   },
   "file_extension": ".py",
   "mimetype": "text/x-python",
   "name": "python",
   "nbconvert_exporter": "python",
   "pygments_lexer": "ipython3",
   "version": "3.8.5"
  }
 },
 "nbformat": 4,
 "nbformat_minor": 4
}
