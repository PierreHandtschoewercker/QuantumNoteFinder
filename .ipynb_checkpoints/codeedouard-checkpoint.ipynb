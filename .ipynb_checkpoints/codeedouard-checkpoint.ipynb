{
 "cells": [
  {
   "cell_type": "code",
   "execution_count": 1,
   "metadata": {},
   "outputs": [],
   "source": [
    "from qiskit import *\n",
    "import matplotlib\n",
    "from matplotlib import pyplot as plt"
   ]
  },
  {
   "cell_type": "code",
   "execution_count": 4,
   "metadata": {},
   "outputs": [
    {
     "name": "stdout",
     "output_type": "stream",
     "text": [
      "0 2\n"
     ]
    }
   ],
   "source": [
    "freq = 440\n",
    "notes = {'A': 110, 'B': 123.5, 'C': 65.41, 'D': 73.42, 'E': 82.41, 'F': 87.31, 'G': 98}\n",
    "#        000       001          010         011         100         101         111\n",
    "\n",
    "\"\"\"def findNoteFororacle(qc, freq, notes):\n",
    "    for index,n in enumerate(notes):\n",
    "        if (notes[n] - 2) < freq < (notes[n] + 2):\n",
    "            qc.cz()\n",
    "\"\"\"\n",
    "\n",
    "backend = Aer.get_backend('unitary_simulator')\n",
    "matplotlib.use('Qt5Agg')\n",
    "\n",
    "n = 3   #les 3 qbits\n",
    "oracle_circuit = QuantumCircuit(n, name='Oracle') #n est nomé ORACLE\n",
    "c = 0  # qbit de control\n",
    "t = 2   # qbit de target\n",
    "oracle_circuit.cz(c, t)  # Oracle \n",
    "#oracle_circuit.cz(2, 1)  # Oracle\n",
    "print(c,t) "
   ]
  },
  {
   "cell_type": "code",
   "execution_count": 11,
   "metadata": {},
   "outputs": [
    {
     "name": "stdout",
     "output_type": "stream",
     "text": [
      "[[ 1.+0.j  0.+0.j  0.+0.j  0.+0.j  0.+0.j  0.+0.j  0.+0.j  0.+0.j]\n",
      " [ 0.+0.j  1.+0.j  0.+0.j  0.+0.j  0.+0.j  0.+0.j  0.+0.j  0.+0.j]\n",
      " [ 0.+0.j  0.+0.j  1.+0.j  0.+0.j  0.+0.j  0.+0.j  0.+0.j  0.+0.j]\n",
      " [ 0.+0.j  0.+0.j  0.+0.j  1.+0.j  0.+0.j  0.+0.j  0.+0.j  0.+0.j]\n",
      " [ 0.+0.j  0.+0.j  0.+0.j  0.+0.j  1.+0.j  0.+0.j  0.+0.j  0.+0.j]\n",
      " [-0.+0.j -0.+0.j -0.+0.j -0.+0.j -0.+0.j -1.+0.j -0.+0.j -0.+0.j]\n",
      " [ 0.+0.j  0.+0.j  0.+0.j  0.+0.j  0.+0.j  0.+0.j  1.+0.j  0.+0.j]\n",
      " [-0.+0.j -0.+0.j -0.+0.j -0.+0.j -0.+0.j -0.+0.j -0.+0.j -1.+0.j]]\n",
      "        \n",
      "q_0: ─■─\n",
      "      │ \n",
      "q_1: ─┼─\n",
      "      │ \n",
      "q_2: ─■─\n",
      "        \n"
     ]
    }
   ],
   "source": [
    "job = execute(oracle_circuit, backend)  #executer le resultat  \n",
    "result = job.result() # recupere la matrice \n",
    "print(result.get_unitary(oracle_circuit)) # afficher la matrice\n",
    "print(oracle_circuit.draw())\n",
    "oracle_ex4 = oracle_circuit.to_gate() # converti le circuit en porte  \n",
    "# print(oracle_ex4.to_matrix())\n",
    "\n",
    "\n",
    "\n",
    "# objectif passer tous les 1 à -1 "
   ]
  },
  {
   "cell_type": "code",
   "execution_count": null,
   "metadata": {},
   "outputs": [],
   "source": []
  }
 ],
 "metadata": {
  "kernelspec": {
   "display_name": "Python 3",
   "language": "python",
   "name": "python3"
  },
  "language_info": {
   "codemirror_mode": {
    "name": "ipython",
    "version": 3
   },
   "file_extension": ".py",
   "mimetype": "text/x-python",
   "name": "python",
   "nbconvert_exporter": "python",
   "pygments_lexer": "ipython3",
   "version": "3.8.5"
  }
 },
 "nbformat": 4,
 "nbformat_minor": 4
}
