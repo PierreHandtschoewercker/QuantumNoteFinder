{
 "cells": [
  {
   "cell_type": "code",
   "execution_count": 28,
   "metadata": {},
   "outputs": [],
   "source": [
    "from qiskit import *\n",
    "import matplotlib\n",
    "from matplotlib import pyplot as plt\n",
    "import math"
   ]
  },
  {
   "cell_type": "code",
   "execution_count": 9,
   "metadata": {},
   "outputs": [
    {
     "data": {
      "text/plain": [
       "<qiskit.circuit.instructionset.InstructionSet at 0x1a47f7b3280>"
      ]
     },
     "execution_count": 9,
     "metadata": {},
     "output_type": "execute_result"
    }
   ],
   "source": [
    "#freq = 440\n",
    "#notes = {'A': 110, 'B': 123.5, 'C': 65.41, 'D': 73.42, 'E': 82.41, 'F': 87.31, 'G': 98, 'H': 0,}\n",
    "#        000       001          010         011         100         101         110       111\n",
    "\n",
    "\n",
    "\n",
    "n = 3 # initialisation de 3 Qubits\n",
    "oracle_circuit = QuantumCircuit(n, name='Oracle') #n est nomé ORACLE\n",
    "\n",
    "c = 0  # qbit de control\n",
    "t = 1   # qbit de target\n",
    "\n",
    "\n",
    "oracle_circuit.x(0)\n",
    "oracle_circuit.x(1)\n",
    "\n",
    "\n",
    "\n",
    "oracle_circuit.x(0)\n",
    "oracle_circuit.x(1)\n",
    "\n",
    "\n",
    "\n",
    "#oracle_ex3 = oracle_circuit.to_gate()\n",
    "#oracle_ex3.name = \"U$_\\omega$\"\n",
    "\n"
   ]
  },
  {
   "cell_type": "code",
   "execution_count": 10,
   "metadata": {
    "scrolled": true
   },
   "outputs": [
    {
     "data": {
      "text/html": [
       "<pre style=\"word-wrap: normal;white-space: pre;background: #fff0;line-height: 1.1;font-family: &quot;Courier New&quot;,Courier,monospace\">     ┌───┐      \n",
       "q_0: ┤ X ├─■────\n",
       "     ├───┤ │    \n",
       "q_1: ┤ X ├─┼──■─\n",
       "     └───┘ │  │ \n",
       "q_2: ──────■──■─\n",
       "                </pre>"
      ],
      "text/plain": [
       "     ┌───┐      \n",
       "q_0: ┤ X ├─■────\n",
       "     ├───┤ │    \n",
       "q_1: ┤ X ├─┼──■─\n",
       "     └───┘ │  │ \n",
       "q_2: ──────■──■─\n",
       "                "
      ]
     },
     "execution_count": 10,
     "metadata": {},
     "output_type": "execute_result"
    }
   ],
   "source": [
    "oracle_circuit.draw()\n",
    "\n"
   ]
  },
  {
   "cell_type": "code",
   "execution_count": null,
   "metadata": {},
   "outputs": [],
   "source": []
  },
  {
   "cell_type": "code",
   "execution_count": 46,
   "metadata": {},
   "outputs": [
    {
     "ename": "TypeError",
     "evalue": "mcmt() missing 1 required positional argument: 'self'",
     "output_type": "error",
     "traceback": [
      "\u001b[1;31m---------------------------------------------------------------------------\u001b[0m",
      "\u001b[1;31mTypeError\u001b[0m                                 Traceback (most recent call last)",
      "\u001b[1;32m<ipython-input-46-f14a20d7a3c4>\u001b[0m in \u001b[0;36m<module>\u001b[1;34m\u001b[0m\n\u001b[0;32m      1\u001b[0m \u001b[1;32mfrom\u001b[0m \u001b[0mqiskit\u001b[0m\u001b[1;33m.\u001b[0m\u001b[0mcircuit\u001b[0m\u001b[1;33m.\u001b[0m\u001b[0mlibrary\u001b[0m \u001b[1;32mimport\u001b[0m \u001b[0mDiagonal\u001b[0m\u001b[1;33m\u001b[0m\u001b[1;33m\u001b[0m\u001b[0m\n\u001b[1;32m----> 2\u001b[1;33m \u001b[0mc3z\u001b[0m \u001b[1;33m=\u001b[0m \u001b[0mDiagonal\u001b[0m\u001b[1;33m.\u001b[0m\u001b[0mmcmt\u001b[0m\u001b[1;33m(\u001b[0m\u001b[0mgate\u001b[0m\u001b[1;33m=\u001b[0m\u001b[1;34m'z'\u001b[0m\u001b[1;33m,\u001b[0m \u001b[0mcontrol_qubits\u001b[0m\u001b[1;33m=\u001b[0m\u001b[1;36m3\u001b[0m\u001b[1;33m,\u001b[0m \u001b[0mtarget_qubits\u001b[0m\u001b[1;33m=\u001b[0m\u001b[1;36m3\u001b[0m\u001b[1;33m)\u001b[0m\u001b[1;33m\u001b[0m\u001b[1;33m\u001b[0m\u001b[0m\n\u001b[0m\u001b[0;32m      3\u001b[0m \u001b[0mc3z\u001b[0m\u001b[1;33m.\u001b[0m\u001b[0mdraw\u001b[0m\u001b[1;33m(\u001b[0m\u001b[1;33m)\u001b[0m\u001b[1;33m\u001b[0m\u001b[1;33m\u001b[0m\u001b[0m\n",
      "\u001b[1;32m~\\anaconda3\\envs\\NoteFinderEnv\\lib\\site-packages\\qiskit\\util.py\u001b[0m in \u001b[0;36mwrapper\u001b[1;34m(*args, **kwargs)\u001b[0m\n\u001b[0;32m     99\u001b[0m             \u001b[1;32mif\u001b[0m \u001b[0mkwargs\u001b[0m\u001b[1;33m:\u001b[0m\u001b[1;33m\u001b[0m\u001b[1;33m\u001b[0m\u001b[0m\n\u001b[0;32m    100\u001b[0m                 \u001b[0m_rename_kwargs\u001b[0m\u001b[1;33m(\u001b[0m\u001b[0mfunc\u001b[0m\u001b[1;33m.\u001b[0m\u001b[0m__name__\u001b[0m\u001b[1;33m,\u001b[0m \u001b[0mkwargs\u001b[0m\u001b[1;33m,\u001b[0m \u001b[0mkwarg_map\u001b[0m\u001b[1;33m)\u001b[0m\u001b[1;33m\u001b[0m\u001b[1;33m\u001b[0m\u001b[0m\n\u001b[1;32m--> 101\u001b[1;33m             \u001b[1;32mreturn\u001b[0m \u001b[0mfunc\u001b[0m\u001b[1;33m(\u001b[0m\u001b[1;33m*\u001b[0m\u001b[0margs\u001b[0m\u001b[1;33m,\u001b[0m \u001b[1;33m**\u001b[0m\u001b[0mkwargs\u001b[0m\u001b[1;33m)\u001b[0m\u001b[1;33m\u001b[0m\u001b[1;33m\u001b[0m\u001b[0m\n\u001b[0m\u001b[0;32m    102\u001b[0m         \u001b[1;32mreturn\u001b[0m \u001b[0mwrapper\u001b[0m\u001b[1;33m\u001b[0m\u001b[1;33m\u001b[0m\u001b[0m\n\u001b[0;32m    103\u001b[0m     \u001b[1;32mreturn\u001b[0m \u001b[0mdecorator\u001b[0m\u001b[1;33m\u001b[0m\u001b[1;33m\u001b[0m\u001b[0m\n",
      "\u001b[1;31mTypeError\u001b[0m: mcmt() missing 1 required positional argument: 'self'"
     ]
    }
   ],
   "source": [
    "from qiskit.circuit.library import Diagonal\n",
    "c3z = Diagonal.mcmt(gate='z', control_qubits=3, target_qubits=3)\n",
    "c3z.draw()"
   ]
  },
  {
   "cell_type": "code",
   "execution_count": 12,
   "metadata": {},
   "outputs": [
    {
     "name": "stdout",
     "output_type": "stream",
     "text": [
      "[[ 0.+0.j  0.+0.j  0.+0.j  1.+0.j  0.+0.j  0.+0.j  0.+0.j  0.+0.j]\n",
      " [ 0.+0.j  0.+0.j  1.+0.j  0.+0.j  0.+0.j  0.+0.j  0.+0.j  0.+0.j]\n",
      " [ 0.+0.j  1.+0.j  0.+0.j  0.+0.j  0.+0.j  0.+0.j  0.+0.j  0.+0.j]\n",
      " [ 1.+0.j  0.+0.j  0.+0.j  0.+0.j  0.+0.j  0.+0.j  0.+0.j  0.+0.j]\n",
      " [ 0.+0.j  0.+0.j  0.+0.j  0.+0.j  0.+0.j  0.+0.j  0.+0.j  1.+0.j]\n",
      " [-0.+0.j -0.+0.j -0.+0.j -0.+0.j -0.+0.j -0.+0.j -1.+0.j -0.+0.j]\n",
      " [-0.+0.j -0.+0.j -0.+0.j -0.+0.j -0.+0.j -1.+0.j -0.+0.j -0.+0.j]\n",
      " [ 0.-0.j  0.-0.j  0.-0.j  0.-0.j  1.-0.j  0.-0.j  0.-0.j  0.-0.j]]\n",
      "     ┌───┐      \n",
      "q_0: ┤ X ├─■────\n",
      "     ├───┤ │    \n",
      "q_1: ┤ X ├─┼──■─\n",
      "     └───┘ │  │ \n",
      "q_2: ──────■──■─\n",
      "                \n"
     ]
    }
   ],
   "source": [
    "backend = Aer.get_backend('unitary_simulator')\n",
    "job = execute(oracle_circuit, backend)  #executer le resultat  \n",
    "result = job.result() # recupere la matrice \n",
    "print(result.get_unitary(oracle_circuit)) # afficher la matrice\n",
    "print(oracle_circuit.draw())"
   ]
  },
  {
   "cell_type": "code",
   "execution_count": 11,
   "metadata": {
    "scrolled": true
   },
   "outputs": [
    {
     "ename": "NameError",
     "evalue": "name 'backend' is not defined",
     "output_type": "error",
     "traceback": [
      "\u001b[1;31m---------------------------------------------------------------------------\u001b[0m",
      "\u001b[1;31mNameError\u001b[0m                                 Traceback (most recent call last)",
      "\u001b[1;32m<ipython-input-11-eb038bf20b6a>\u001b[0m in \u001b[0;36m<module>\u001b[1;34m\u001b[0m\n\u001b[1;32m----> 1\u001b[1;33m \u001b[0mjob\u001b[0m \u001b[1;33m=\u001b[0m \u001b[0mexecute\u001b[0m\u001b[1;33m(\u001b[0m\u001b[0moracle_circuit\u001b[0m\u001b[1;33m,\u001b[0m \u001b[0mbackend\u001b[0m\u001b[1;33m)\u001b[0m  \u001b[1;31m#executer le resultat\u001b[0m\u001b[1;33m\u001b[0m\u001b[1;33m\u001b[0m\u001b[0m\n\u001b[0m\u001b[0;32m      2\u001b[0m \u001b[0mresult\u001b[0m \u001b[1;33m=\u001b[0m \u001b[0mjob\u001b[0m\u001b[1;33m.\u001b[0m\u001b[0mresult\u001b[0m\u001b[1;33m(\u001b[0m\u001b[1;33m)\u001b[0m \u001b[1;31m# recupere la matrice\u001b[0m\u001b[1;33m\u001b[0m\u001b[1;33m\u001b[0m\u001b[0m\n\u001b[0;32m      3\u001b[0m \u001b[0mprint\u001b[0m\u001b[1;33m(\u001b[0m\u001b[0mresult\u001b[0m\u001b[1;33m.\u001b[0m\u001b[0mget_unitary\u001b[0m\u001b[1;33m(\u001b[0m\u001b[0moracle_circuit\u001b[0m\u001b[1;33m)\u001b[0m\u001b[1;33m)\u001b[0m \u001b[1;31m# afficher la matrice\u001b[0m\u001b[1;33m\u001b[0m\u001b[1;33m\u001b[0m\u001b[0m\n\u001b[0;32m      4\u001b[0m \u001b[0mprint\u001b[0m\u001b[1;33m(\u001b[0m\u001b[0moracle_circuit\u001b[0m\u001b[1;33m.\u001b[0m\u001b[0mdraw\u001b[0m\u001b[1;33m(\u001b[0m\u001b[1;33m)\u001b[0m\u001b[1;33m)\u001b[0m\u001b[1;33m\u001b[0m\u001b[1;33m\u001b[0m\u001b[0m\n\u001b[0;32m      5\u001b[0m \u001b[0moracle_ex4\u001b[0m \u001b[1;33m=\u001b[0m \u001b[0moracle_circuit\u001b[0m\u001b[1;33m.\u001b[0m\u001b[0mto_gate\u001b[0m\u001b[1;33m(\u001b[0m\u001b[1;33m)\u001b[0m \u001b[1;31m# converti le circuit en porte\u001b[0m\u001b[1;33m\u001b[0m\u001b[1;33m\u001b[0m\u001b[0m\n",
      "\u001b[1;31mNameError\u001b[0m: name 'backend' is not defined"
     ]
    }
   ],
   "source": [
    "\n",
    "oracle_ex4 = oracle_circuit.to_gate() # converti le circuit en porte  \n",
    "# print(oracle_ex4.to_matrix())\n",
    "\n",
    "\n",
    "\n",
    "# objectif passer 1 par 1 tous les indices de la diagonale à -1"
   ]
  },
  {
   "cell_type": "code",
   "execution_count": 33,
   "metadata": {},
   "outputs": [],
   "source": [
    "pi = math.pi\n",
    "q = QuantumRegister(3,'q')\n",
    "c = ClassicalRegister(3,'c')\n",
    "qc = QuantumCircuit(q,c)"
   ]
  },
  {
   "cell_type": "code",
   "execution_count": 34,
   "metadata": {},
   "outputs": [
    {
     "data": {
      "text/plain": [
       "<qiskit.circuit.instructionset.InstructionSet at 0x1a47fa57df0>"
      ]
     },
     "execution_count": 34,
     "metadata": {},
     "output_type": "execute_result"
    }
   ],
   "source": [
    "qc.h(q[0])\n",
    "qc.h(q[1])\n",
    "qc.h(q[2])\n"
   ]
  },
  {
   "cell_type": "code",
   "execution_count": 37,
   "metadata": {},
   "outputs": [
    {
     "data": {
      "text/plain": [
       "<qiskit.circuit.instructionset.InstructionSet at 0x1a47fa364f0>"
      ]
     },
     "execution_count": 37,
     "metadata": {},
     "output_type": "execute_result"
    }
   ],
   "source": [
    "qc.x(q[0])\n",
    "qc.x(q[1])\n",
    "\n",
    "qc.cp(pi/4, q[0], q[2])\n",
    "qc.cx(q[0], q[1])\n",
    "\n",
    "qc.x(q[0])\n",
    "qc.x(q[1])\n"
   ]
  },
  {
   "cell_type": "code",
   "execution_count": 38,
   "metadata": {},
   "outputs": [
    {
     "data": {
      "text/html": [
       "<pre style=\"word-wrap: normal;white-space: pre;background: #fff0;line-height: 1.1;font-family: &quot;Courier New&quot;,Courier,monospace\">     ┌───┐┌───┐               ┌───┐┌───┐               ┌───┐\n",
       "q_0: ┤ H ├┤ X ├────■───────■──┤ X ├┤ X ├────■───────■──┤ X ├\n",
       "     ├───┤├───┤    │     ┌─┴─┐├───┤├───┤    │     ┌─┴─┐├───┤\n",
       "q_1: ┤ H ├┤ X ├────┼─────┤ X ├┤ X ├┤ X ├────┼─────┤ X ├┤ X ├\n",
       "     ├───┤├───┤┌───┴────┐├───┤└───┘└───┘┌───┴────┐└───┘└───┘\n",
       "q_2: ┤ H ├┤ X ├┤ P(π/4) ├┤ X ├──────────┤ P(π/4) ├──────────\n",
       "     └───┘└───┘└────────┘└───┘          └────────┘          \n",
       "c: 3/═══════════════════════════════════════════════════════\n",
       "                                                            </pre>"
      ],
      "text/plain": [
       "     ┌───┐┌───┐               ┌───┐┌───┐               ┌───┐\n",
       "q_0: ┤ H ├┤ X ├────■───────■──┤ X ├┤ X ├────■───────■──┤ X ├\n",
       "     ├───┤├───┤    │     ┌─┴─┐├───┤├───┤    │     ┌─┴─┐├───┤\n",
       "q_1: ┤ H ├┤ X ├────┼─────┤ X ├┤ X ├┤ X ├────┼─────┤ X ├┤ X ├\n",
       "     ├───┤├───┤┌───┴────┐├───┤└───┘└───┘┌───┴────┐└───┘└───┘\n",
       "q_2: ┤ H ├┤ X ├┤ P(π/4) ├┤ X ├──────────┤ P(π/4) ├──────────\n",
       "     └───┘└───┘└────────┘└───┘          └────────┘          \n",
       "c: 3/═══════════════════════════════════════════════════════\n",
       "                                                            "
      ]
     },
     "execution_count": 38,
     "metadata": {},
     "output_type": "execute_result"
    }
   ],
   "source": [
    "qc.draw()"
   ]
  },
  {
   "cell_type": "code",
   "execution_count": null,
   "metadata": {},
   "outputs": [],
   "source": []
  }
 ],
 "metadata": {
  "kernelspec": {
   "display_name": "Python 3",
   "language": "python",
   "name": "python3"
  },
  "language_info": {
   "codemirror_mode": {
    "name": "ipython",
    "version": 3
   },
   "file_extension": ".py",
   "mimetype": "text/x-python",
   "name": "python",
   "nbconvert_exporter": "python",
   "pygments_lexer": "ipython3",
   "version": "3.8.5"
  }
 },
 "nbformat": 4,
 "nbformat_minor": 4
}
